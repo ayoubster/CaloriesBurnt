{
 "cells": [
  {
   "cell_type": "code",
   "execution_count": 4,
   "id": "6cfe20bb",
   "metadata": {},
   "outputs": [],
   "source": [
    "import numpy as np\n",
    "import matplotlib.pyplot as plt\n",
    "from time import time"
   ]
  },
  {
   "cell_type": "code",
   "execution_count": 12,
   "id": "fad4c334",
   "metadata": {},
   "outputs": [],
   "source": [
    "def getcalsburnt(lowertemp, uppertemp, avgtol, sdtol, avgcalsburnt):\n",
    "    \n",
    "    temp = np.random.uniform(lowertemp, uppertemp)\n",
    "    \n",
    "    tol = np.random.normal(avgtol, sdtol)\n",
    "    \n",
    "    if temp > tol:\n",
    "        cals = np.random.exponential(avgcalsburnt)\n",
    "    else:\n",
    "        cals = 0\n",
    "    \n",
    "    return cals"
   ]
  },
  {
   "cell_type": "code",
   "execution_count": 15,
   "id": "a68681b2",
   "metadata": {},
   "outputs": [
    {
     "data": {
      "text/plain": [
       "189.49831571420984"
      ]
     },
     "execution_count": 15,
     "metadata": {},
     "output_type": "execute_result"
    }
   ],
   "source": [
    "getcalsburnt(40,60,55,5,200)"
   ]
  },
  {
   "cell_type": "code",
   "execution_count": 20,
   "id": "2418caf9",
   "metadata": {},
   "outputs": [
    {
     "name": "stdout",
     "output_type": "stream",
     "text": [
      "5.079993724822998\n"
     ]
    }
   ],
   "source": [
    "dailycals = []\n",
    "numdays = 1000000\n",
    "\n",
    "start = time()\n",
    "for i in range(numdays):\n",
    "    cals = getcalsburnt(40,60,55,5,200)\n",
    "    dailycals.append(cals)\n",
    "end = time()\n",
    "print(end - start)"
   ]
  },
  {
   "cell_type": "code",
   "execution_count": 23,
   "id": "77a692f6",
   "metadata": {},
   "outputs": [
    {
     "name": "stdout",
     "output_type": "stream",
     "text": [
      "54.215854825566204\n",
      "0.728801\n"
     ]
    },
    {
     "data": {
      "image/png": "[encoded data removed]",
      "text/plain": [
       "<Figure size 432x288 with 1 Axes>"
      ]
     },
     "metadata": {
      "needs_background": "light"
     },
     "output_type": "display_data"
    }
   ],
   "source": [
    "plt.hist(dailycals)\n",
    "print(np.mean(dailycals))\n",
    "print(dailycals.count(0)/numdays)"
   ]
  },
  {
   "cell_type": "markdown",
   "id": "cb258d4a",
   "metadata": {},
   "source": [
    "# With vectorization - Insane performance increase in time"
   ]
  },
  {
   "cell_type": "code",
   "execution_count": 35,
   "id": "891dbebd",
   "metadata": {},
   "outputs": [
    {
     "name": "stdout",
     "output_type": "stream",
     "text": [
      "0.06403565406799316\n",
      "53.8560500784181\n",
      "0.729835\n"
     ]
    },
    {
     "data": {
      "image/png": "[encoded data removed]",
      "text/plain": [
       "<Figure size 432x288 with 1 Axes>"
      ]
     },
     "metadata": {
      "needs_background": "light"
     },
     "output_type": "display_data"
    }
   ],
   "source": [
    "start = time()\n",
    "temp = np.random.uniform(40,60,numdays)\n",
    "tol = np.random.normal(55, 5, numdays)\n",
    "dailycals = np.random.exponential(200, numdays)\n",
    "dailycals[temp < tol] = 0\n",
    "end = time()\n",
    "print(end-start)\n",
    "plt.hist(dailycals)\n",
    "print(np.mean(dailycals))\n",
    "print(len([1 for i in dailycals if  i == 0])/numdays)"
   ]
  }
 ],
 "metadata": {
  "kernelspec": {
   "display_name": "Python 3 (ipykernel)",
   "language": "python",
   "name": "python3"
  },
  "language_info": {
   "codemirror_mode": {
    "name": "ipython",
    "version": 3
   },
   "file_extension": ".py",
   "mimetype": "text/x-python",
   "name": "python",
   "nbconvert_exporter": "python",
   "pygments_lexer": "ipython3",
   "version": "3.7.0"
  }
 },
 "nbformat": 4,
 "nbformat_minor": 5
}
